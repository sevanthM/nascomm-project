{
 "cells": [
  {
   "cell_type": "code",
   "execution_count": 1,
   "id": "14c53f2a",
   "metadata": {
    "_cell_guid": "b1076dfc-b9ad-4769-8c92-a6c4dae69d19",
    "_uuid": "8f2839f25d086af736a60e9eeb907d3b93b6e0e5",
    "execution": {
     "iopub.execute_input": "2021-10-30T07:51:38.826022Z",
     "iopub.status.busy": "2021-10-30T07:51:38.824280Z",
     "iopub.status.idle": "2021-10-30T07:51:38.847846Z",
     "shell.execute_reply": "2021-10-30T07:51:38.846760Z",
     "shell.execute_reply.started": "2021-10-30T07:47:54.703726Z"
    },
    "papermill": {
     "duration": 0.04142,
     "end_time": "2021-10-30T07:51:38.848113",
     "exception": false,
     "start_time": "2021-10-30T07:51:38.806693",
     "status": "completed"
    },
    "tags": []
   },
   "outputs": [
    {
     "name": "stdout",
     "output_type": "stream",
     "text": [
      "/kaggle/input/salary-data-simple-linear-regression/Salary_Data.csv\n"
     ]
    }
   ],
   "source": [
    "\n",
    "\n",
    "import numpy as np # linear algebra\n",
    "import pandas as pd # data processing, CSV file I/O (e.g. pd.read_csv)\n",
    "\n",
    "# Input data files are available in the read-only \"../input/\" directory\n",
    "# For example, running this (by clicking run or pressing Shift+Enter) will list all files under the input directory\n",
    "\n",
    "import os\n",
    "for dirname, _, filenames in os.walk('/kaggle/input'):\n",
    "    for filename in filenames:\n",
    "        print(os.path.join(dirname, filename))\n",
    "\n",
    "# You can write up to 20GB to the current directory (/kaggle/working/) that gets preserved as output when you create a version using \"Save & Run All\" \n",
    "# You can also write temporary files to /kaggle/temp/, but they won't be saved outside of the current session"
   ]
  },
  {
   "cell_type": "markdown",
   "id": "538c28e8",
   "metadata": {
    "papermill": {
     "duration": 0.010561,
     "end_time": "2021-10-30T07:51:38.872264",
     "exception": false,
     "start_time": "2021-10-30T07:51:38.861703",
     "status": "completed"
    },
    "tags": []
   },
   "source": [
    "## Data Pre-Processing"
   ]
  },
  {
   "cell_type": "code",
   "execution_count": null,
   "id": "28eca2e4",
   "metadata": {
    "papermill": {
     "duration": 0.01047,
     "end_time": "2021-10-30T07:51:38.893583",
     "exception": false,
     "start_time": "2021-10-30T07:51:38.883113",
     "status": "completed"
    },
    "tags": []
   },
   "outputs": [],
   "source": []
  },
  {
   "cell_type": "markdown",
   "id": "d2f25132",
   "metadata": {
    "papermill": {
     "duration": 0.010833,
     "end_time": "2021-10-30T07:51:38.915616",
     "exception": false,
     "start_time": "2021-10-30T07:51:38.904783",
     "status": "completed"
    },
    "tags": []
   },
   "source": [
    "### Loading Dataset"
   ]
  },
  {
   "cell_type": "code",
   "execution_count": 2,
   "id": "d72d4db4",
   "metadata": {
    "execution": {
     "iopub.execute_input": "2021-10-30T07:51:38.940796Z",
     "iopub.status.busy": "2021-10-30T07:51:38.940133Z",
     "iopub.status.idle": "2021-10-30T07:51:39.070339Z",
     "shell.execute_reply": "2021-10-30T07:51:39.069669Z",
     "shell.execute_reply.started": "2021-10-30T07:47:54.717869Z"
    },
    "papermill": {
     "duration": 0.143936,
     "end_time": "2021-10-30T07:51:39.070489",
     "exception": false,
     "start_time": "2021-10-30T07:51:38.926553",
     "status": "completed"
    },
    "scrolled": true,
    "tags": []
   },
   "outputs": [
    {
     "data": {
      "text/html": [
       "<div>\n",
       "<style scoped>\n",
       "    .dataframe tbody tr th:only-of-type {\n",
       "        vertical-align: middle;\n",
       "    }\n",
       "\n",
       "    .dataframe tbody tr th {\n",
       "        vertical-align: top;\n",
       "    }\n",
       "\n",
       "    .dataframe thead th {\n",
       "        text-align: right;\n",
       "    }\n",
       "</style>\n",
       "<table border=\"1\" class=\"dataframe\">\n",
       "  <thead>\n",
       "    <tr style=\"text-align: right;\">\n",
       "      <th></th>\n",
       "      <th>YearsExperience</th>\n",
       "      <th>Salary</th>\n",
       "    </tr>\n",
       "  </thead>\n",
       "  <tbody>\n",
       "    <tr>\n",
       "      <th>0</th>\n",
       "      <td>1.1</td>\n",
       "      <td>39343.0</td>\n",
       "    </tr>\n",
       "    <tr>\n",
       "      <th>1</th>\n",
       "      <td>1.3</td>\n",
       "      <td>46205.0</td>\n",
       "    </tr>\n",
       "    <tr>\n",
       "      <th>2</th>\n",
       "      <td>1.5</td>\n",
       "      <td>37731.0</td>\n",
       "    </tr>\n",
       "    <tr>\n",
       "      <th>3</th>\n",
       "      <td>2.0</td>\n",
       "      <td>43525.0</td>\n",
       "    </tr>\n",
       "    <tr>\n",
       "      <th>4</th>\n",
       "      <td>2.2</td>\n",
       "      <td>39891.0</td>\n",
       "    </tr>\n",
       "    <tr>\n",
       "      <th>5</th>\n",
       "      <td>2.9</td>\n",
       "      <td>56642.0</td>\n",
       "    </tr>\n",
       "    <tr>\n",
       "      <th>6</th>\n",
       "      <td>3.0</td>\n",
       "      <td>60150.0</td>\n",
       "    </tr>\n",
       "    <tr>\n",
       "      <th>7</th>\n",
       "      <td>3.2</td>\n",
       "      <td>54445.0</td>\n",
       "    </tr>\n",
       "    <tr>\n",
       "      <th>8</th>\n",
       "      <td>3.2</td>\n",
       "      <td>64445.0</td>\n",
       "    </tr>\n",
       "    <tr>\n",
       "      <th>9</th>\n",
       "      <td>3.7</td>\n",
       "      <td>57189.0</td>\n",
       "    </tr>\n",
       "    <tr>\n",
       "      <th>10</th>\n",
       "      <td>3.9</td>\n",
       "      <td>63218.0</td>\n",
       "    </tr>\n",
       "    <tr>\n",
       "      <th>11</th>\n",
       "      <td>4.0</td>\n",
       "      <td>55794.0</td>\n",
       "    </tr>\n",
       "    <tr>\n",
       "      <th>12</th>\n",
       "      <td>4.0</td>\n",
       "      <td>56957.0</td>\n",
       "    </tr>\n",
       "    <tr>\n",
       "      <th>13</th>\n",
       "      <td>4.1</td>\n",
       "      <td>57081.0</td>\n",
       "    </tr>\n",
       "    <tr>\n",
       "      <th>14</th>\n",
       "      <td>4.5</td>\n",
       "      <td>61111.0</td>\n",
       "    </tr>\n",
       "    <tr>\n",
       "      <th>15</th>\n",
       "      <td>4.9</td>\n",
       "      <td>67938.0</td>\n",
       "    </tr>\n",
       "    <tr>\n",
       "      <th>16</th>\n",
       "      <td>5.1</td>\n",
       "      <td>66029.0</td>\n",
       "    </tr>\n",
       "    <tr>\n",
       "      <th>17</th>\n",
       "      <td>5.3</td>\n",
       "      <td>83088.0</td>\n",
       "    </tr>\n",
       "    <tr>\n",
       "      <th>18</th>\n",
       "      <td>5.9</td>\n",
       "      <td>81363.0</td>\n",
       "    </tr>\n",
       "    <tr>\n",
       "      <th>19</th>\n",
       "      <td>6.0</td>\n",
       "      <td>93940.0</td>\n",
       "    </tr>\n",
       "    <tr>\n",
       "      <th>20</th>\n",
       "      <td>6.8</td>\n",
       "      <td>91738.0</td>\n",
       "    </tr>\n",
       "    <tr>\n",
       "      <th>21</th>\n",
       "      <td>7.1</td>\n",
       "      <td>98273.0</td>\n",
       "    </tr>\n",
       "    <tr>\n",
       "      <th>22</th>\n",
       "      <td>7.9</td>\n",
       "      <td>101302.0</td>\n",
       "    </tr>\n",
       "    <tr>\n",
       "      <th>23</th>\n",
       "      <td>8.2</td>\n",
       "      <td>113812.0</td>\n",
       "    </tr>\n",
       "    <tr>\n",
       "      <th>24</th>\n",
       "      <td>8.7</td>\n",
       "      <td>109431.0</td>\n",
       "    </tr>\n",
       "    <tr>\n",
       "      <th>25</th>\n",
       "      <td>9.0</td>\n",
       "      <td>105582.0</td>\n",
       "    </tr>\n",
       "    <tr>\n",
       "      <th>26</th>\n",
       "      <td>9.5</td>\n",
       "      <td>116969.0</td>\n",
       "    </tr>\n",
       "    <tr>\n",
       "      <th>27</th>\n",
       "      <td>9.6</td>\n",
       "      <td>112635.0</td>\n",
       "    </tr>\n",
       "    <tr>\n",
       "      <th>28</th>\n",
       "      <td>10.3</td>\n",
       "      <td>122391.0</td>\n",
       "    </tr>\n",
       "    <tr>\n",
       "      <th>29</th>\n",
       "      <td>10.5</td>\n",
       "      <td>121872.0</td>\n",
       "    </tr>\n",
       "  </tbody>\n",
       "</table>\n",
       "</div>"
      ],
      "text/plain": [
       "    YearsExperience    Salary\n",
       "0               1.1   39343.0\n",
       "1               1.3   46205.0\n",
       "2               1.5   37731.0\n",
       "3               2.0   43525.0\n",
       "4               2.2   39891.0\n",
       "5               2.9   56642.0\n",
       "6               3.0   60150.0\n",
       "7               3.2   54445.0\n",
       "8               3.2   64445.0\n",
       "9               3.7   57189.0\n",
       "10              3.9   63218.0\n",
       "11              4.0   55794.0\n",
       "12              4.0   56957.0\n",
       "13              4.1   57081.0\n",
       "14              4.5   61111.0\n",
       "15              4.9   67938.0\n",
       "16              5.1   66029.0\n",
       "17              5.3   83088.0\n",
       "18              5.9   81363.0\n",
       "19              6.0   93940.0\n",
       "20              6.8   91738.0\n",
       "21              7.1   98273.0\n",
       "22              7.9  101302.0\n",
       "23              8.2  113812.0\n",
       "24              8.7  109431.0\n",
       "25              9.0  105582.0\n",
       "26              9.5  116969.0\n",
       "27              9.6  112635.0\n",
       "28             10.3  122391.0\n",
       "29             10.5  121872.0"
      ]
     },
     "execution_count": 2,
     "metadata": {},
     "output_type": "execute_result"
    }
   ],
   "source": [
    "dataset = pd.read_csv('/kaggle/input/salary-data-simple-linear-regression/Salary_Data.csv')\n",
    "dataset"
   ]
  },
  {
   "cell_type": "code",
   "execution_count": 3,
   "id": "a4639dd0",
   "metadata": {
    "execution": {
     "iopub.execute_input": "2021-10-30T07:51:39.101820Z",
     "iopub.status.busy": "2021-10-30T07:51:39.101154Z",
     "iopub.status.idle": "2021-10-30T07:51:39.104011Z",
     "shell.execute_reply": "2021-10-30T07:51:39.104447Z",
     "shell.execute_reply.started": "2021-10-30T07:47:54.759856Z"
    },
    "papermill": {
     "duration": 0.022555,
     "end_time": "2021-10-30T07:51:39.104615",
     "exception": false,
     "start_time": "2021-10-30T07:51:39.082060",
     "status": "completed"
    },
    "tags": []
   },
   "outputs": [
    {
     "data": {
      "text/plain": [
       "array([[ 1.1],\n",
       "       [ 1.3],\n",
       "       [ 1.5],\n",
       "       [ 2. ],\n",
       "       [ 2.2],\n",
       "       [ 2.9],\n",
       "       [ 3. ],\n",
       "       [ 3.2],\n",
       "       [ 3.2],\n",
       "       [ 3.7],\n",
       "       [ 3.9],\n",
       "       [ 4. ],\n",
       "       [ 4. ],\n",
       "       [ 4.1],\n",
       "       [ 4.5],\n",
       "       [ 4.9],\n",
       "       [ 5.1],\n",
       "       [ 5.3],\n",
       "       [ 5.9],\n",
       "       [ 6. ],\n",
       "       [ 6.8],\n",
       "       [ 7.1],\n",
       "       [ 7.9],\n",
       "       [ 8.2],\n",
       "       [ 8.7],\n",
       "       [ 9. ],\n",
       "       [ 9.5],\n",
       "       [ 9.6],\n",
       "       [10.3],\n",
       "       [10.5]])"
      ]
     },
     "execution_count": 3,
     "metadata": {},
     "output_type": "execute_result"
    }
   ],
   "source": [
    "# Dividing the dataset according to the independent & dependent variables\n",
    "X = dataset.iloc[:,0].values\n",
    "X = np.reshape(X,newshape=(-1,1))\n",
    "X"
   ]
  },
  {
   "cell_type": "code",
   "execution_count": 4,
   "id": "3c7fe114",
   "metadata": {
    "execution": {
     "iopub.execute_input": "2021-10-30T07:51:39.132990Z",
     "iopub.status.busy": "2021-10-30T07:51:39.132318Z",
     "iopub.status.idle": "2021-10-30T07:51:39.136538Z",
     "shell.execute_reply": "2021-10-30T07:51:39.136954Z",
     "shell.execute_reply.started": "2021-10-30T07:47:54.774763Z"
    },
    "papermill": {
     "duration": 0.020768,
     "end_time": "2021-10-30T07:51:39.137130",
     "exception": false,
     "start_time": "2021-10-30T07:51:39.116362",
     "status": "completed"
    },
    "tags": []
   },
   "outputs": [
    {
     "data": {
      "text/plain": [
       "array([ 39343.,  46205.,  37731.,  43525.,  39891.,  56642.,  60150.,\n",
       "        54445.,  64445.,  57189.,  63218.,  55794.,  56957.,  57081.,\n",
       "        61111.,  67938.,  66029.,  83088.,  81363.,  93940.,  91738.,\n",
       "        98273., 101302., 113812., 109431., 105582., 116969., 112635.,\n",
       "       122391., 121872.])"
      ]
     },
     "execution_count": 4,
     "metadata": {},
     "output_type": "execute_result"
    }
   ],
   "source": [
    "y = dataset.iloc[:,1].values\n",
    "y"
   ]
  },
  {
   "cell_type": "markdown",
   "id": "fd33455f",
   "metadata": {
    "papermill": {
     "duration": 0.011769,
     "end_time": "2021-10-30T07:51:39.161157",
     "exception": false,
     "start_time": "2021-10-30T07:51:39.149388",
     "status": "completed"
    },
    "tags": []
   },
   "source": [
    "### Splitting the Dataset to train & test"
   ]
  },
  {
   "cell_type": "code",
   "execution_count": 5,
   "id": "4fa27fd9",
   "metadata": {
    "execution": {
     "iopub.execute_input": "2021-10-30T07:51:39.188354Z",
     "iopub.status.busy": "2021-10-30T07:51:39.187658Z",
     "iopub.status.idle": "2021-10-30T07:51:40.218199Z",
     "shell.execute_reply": "2021-10-30T07:51:40.217596Z",
     "shell.execute_reply.started": "2021-10-30T07:47:54.791375Z"
    },
    "papermill": {
     "duration": 1.045283,
     "end_time": "2021-10-30T07:51:40.218344",
     "exception": false,
     "start_time": "2021-10-30T07:51:39.173061",
     "status": "completed"
    },
    "tags": []
   },
   "outputs": [],
   "source": [
    "from sklearn.model_selection import train_test_split\n",
    "\n",
    "X_train, X_test, y_train, y_test = train_test_split(X,y,test_size = 0.2, random_state=1)"
   ]
  },
  {
   "cell_type": "code",
   "execution_count": 6,
   "id": "93c95dc2",
   "metadata": {
    "execution": {
     "iopub.execute_input": "2021-10-30T07:51:40.250232Z",
     "iopub.status.busy": "2021-10-30T07:51:40.249340Z",
     "iopub.status.idle": "2021-10-30T07:51:40.252737Z",
     "shell.execute_reply": "2021-10-30T07:51:40.253229Z",
     "shell.execute_reply.started": "2021-10-30T07:47:54.811092Z"
    },
    "papermill": {
     "duration": 0.022902,
     "end_time": "2021-10-30T07:51:40.253403",
     "exception": false,
     "start_time": "2021-10-30T07:51:40.230501",
     "status": "completed"
    },
    "tags": []
   },
   "outputs": [
    {
     "name": "stdout",
     "output_type": "stream",
     "text": [
      "[[ 9.5]\n",
      " [ 2. ]\n",
      " [ 8.7]\n",
      " [ 7.9]\n",
      " [ 8.2]\n",
      " [ 2.2]\n",
      " [ 1.5]\n",
      " [ 9. ]\n",
      " [ 3. ]\n",
      " [ 5.9]\n",
      " [ 4.1]\n",
      " [ 3.2]\n",
      " [ 9.6]\n",
      " [ 1.3]\n",
      " [ 5.1]\n",
      " [ 1.1]\n",
      " [ 4.9]\n",
      " [10.5]\n",
      " [10.3]\n",
      " [ 3.7]\n",
      " [ 3.2]\n",
      " [ 4. ]\n",
      " [ 4. ]\n",
      " [ 2.9]]\n",
      "----------\n",
      "[[5.3]\n",
      " [7.1]\n",
      " [3.9]\n",
      " [6. ]\n",
      " [4.5]\n",
      " [6.8]]\n",
      "----------\n",
      "[116969.  43525. 109431. 101302. 113812.  39891.  37731. 105582.  60150.\n",
      "  81363.  57081.  54445. 112635.  46205.  66029.  39343.  67938. 121872.\n",
      " 122391.  57189.  64445.  56957.  55794.  56642.]\n",
      "----------\n",
      "[83088. 98273. 63218. 93940. 61111. 91738.]\n"
     ]
    }
   ],
   "source": [
    "print(X_train, X_test, y_train, y_test,sep=\"\\n\" + \"-\"*10 + '\\n')"
   ]
  },
  {
   "cell_type": "markdown",
   "id": "5b453396",
   "metadata": {
    "papermill": {
     "duration": 0.01161,
     "end_time": "2021-10-30T07:51:40.277273",
     "exception": false,
     "start_time": "2021-10-30T07:51:40.265663",
     "status": "completed"
    },
    "tags": []
   },
   "source": [
    "### Training the Model"
   ]
  },
  {
   "cell_type": "code",
   "execution_count": 7,
   "id": "f6d48f57",
   "metadata": {
    "execution": {
     "iopub.execute_input": "2021-10-30T07:51:40.305347Z",
     "iopub.status.busy": "2021-10-30T07:51:40.304430Z",
     "iopub.status.idle": "2021-10-30T07:51:40.596467Z",
     "shell.execute_reply": "2021-10-30T07:51:40.595795Z",
     "shell.execute_reply.started": "2021-10-30T07:47:54.830447Z"
    },
    "papermill": {
     "duration": 0.307014,
     "end_time": "2021-10-30T07:51:40.596606",
     "exception": false,
     "start_time": "2021-10-30T07:51:40.289592",
     "status": "completed"
    },
    "tags": []
   },
   "outputs": [
    {
     "data": {
      "text/plain": [
       "LinearRegression()"
      ]
     },
     "execution_count": 7,
     "metadata": {},
     "output_type": "execute_result"
    }
   ],
   "source": [
    "from sklearn.linear_model import LinearRegression\n",
    "\n",
    "regressor = LinearRegression()\n",
    "regressor.fit(X_train,y_train)"
   ]
  },
  {
   "cell_type": "code",
   "execution_count": 8,
   "id": "488a6dd8",
   "metadata": {
    "execution": {
     "iopub.execute_input": "2021-10-30T07:51:40.627272Z",
     "iopub.status.busy": "2021-10-30T07:51:40.626677Z",
     "iopub.status.idle": "2021-10-30T07:51:40.630126Z",
     "shell.execute_reply": "2021-10-30T07:51:40.630883Z",
     "shell.execute_reply.started": "2021-10-30T07:47:54.896701Z"
    },
    "papermill": {
     "duration": 0.02212,
     "end_time": "2021-10-30T07:51:40.631155",
     "exception": false,
     "start_time": "2021-10-30T07:51:40.609035",
     "status": "completed"
    },
    "tags": []
   },
   "outputs": [
    {
     "name": "stdout",
     "output_type": "stream",
     "text": [
      "Coef:  [9332.94473799]\n",
      "Intercept:  25609.89799835482\n"
     ]
    }
   ],
   "source": [
    "print('Coef: ',regressor.coef_)\n",
    "print('Intercept: ',regressor.intercept_)"
   ]
  },
  {
   "cell_type": "markdown",
   "id": "664fdffc",
   "metadata": {
    "papermill": {
     "duration": 0.012566,
     "end_time": "2021-10-30T07:51:40.657963",
     "exception": false,
     "start_time": "2021-10-30T07:51:40.645397",
     "status": "completed"
    },
    "tags": []
   },
   "source": [
    "### Predicting the Results on Test Data"
   ]
  },
  {
   "cell_type": "code",
   "execution_count": 9,
   "id": "b4437eb0",
   "metadata": {
    "execution": {
     "iopub.execute_input": "2021-10-30T07:51:40.687161Z",
     "iopub.status.busy": "2021-10-30T07:51:40.686238Z",
     "iopub.status.idle": "2021-10-30T07:51:40.690670Z",
     "shell.execute_reply": "2021-10-30T07:51:40.691172Z",
     "shell.execute_reply.started": "2021-10-30T07:47:54.908099Z"
    },
    "papermill": {
     "duration": 0.020562,
     "end_time": "2021-10-30T07:51:40.691356",
     "exception": false,
     "start_time": "2021-10-30T07:51:40.670794",
     "status": "completed"
    },
    "tags": []
   },
   "outputs": [],
   "source": [
    "y_pred = regressor.predict(X_test)"
   ]
  },
  {
   "cell_type": "markdown",
   "id": "9ac8da46",
   "metadata": {
    "papermill": {
     "duration": 0.012434,
     "end_time": "2021-10-30T07:51:40.716795",
     "exception": false,
     "start_time": "2021-10-30T07:51:40.704361",
     "status": "completed"
    },
    "tags": []
   },
   "source": [
    "### Visualizing the Results over Test data"
   ]
  },
  {
   "cell_type": "code",
   "execution_count": 10,
   "id": "7dcd8f1d",
   "metadata": {
    "execution": {
     "iopub.execute_input": "2021-10-30T07:51:40.746494Z",
     "iopub.status.busy": "2021-10-30T07:51:40.745509Z",
     "iopub.status.idle": "2021-10-30T07:51:40.962153Z",
     "shell.execute_reply": "2021-10-30T07:51:40.961651Z",
     "shell.execute_reply.started": "2021-10-30T07:47:54.924892Z"
    },
    "papermill": {
     "duration": 0.232637,
     "end_time": "2021-10-30T07:51:40.962296",
     "exception": false,
     "start_time": "2021-10-30T07:51:40.729659",
     "status": "completed"
    },
    "tags": []
   },
   "outputs": [
    {
     "data": {
      "image/png": "[encoded data removed]",
      "text/plain": [
       "<Figure size 432x288 with 1 Axes>"
      ]
     },
     "metadata": {
      "needs_background": "light"
     },
     "output_type": "display_data"
    }
   ],
   "source": [
    "import matplotlib.pyplot as plt\n",
    "\n",
    "plt.scatter(X_test,y_test,color='red')\n",
    "plt.plot(X_test,y_pred,'b-')\n",
    "plt.xlabel('Years of Experience')\n",
    "plt.ylabel('Salary')\n",
    "plt.title('Salary vs Experience')\n",
    "plt.show()"
   ]
  },
  {
   "cell_type": "markdown",
   "id": "27c36caf",
   "metadata": {
    "papermill": {
     "duration": 0.013049,
     "end_time": "2021-10-30T07:51:40.988863",
     "exception": false,
     "start_time": "2021-10-30T07:51:40.975814",
     "status": "completed"
    },
    "tags": []
   },
   "source": [
    "### Testing the model on some random data"
   ]
  },
  {
   "cell_type": "code",
   "execution_count": 11,
   "id": "b703cfd8",
   "metadata": {
    "_kg_hide-output": true,
    "execution": {
     "iopub.execute_input": "2021-10-30T07:51:41.022068Z",
     "iopub.status.busy": "2021-10-30T07:51:41.021310Z",
     "iopub.status.idle": "2021-10-30T07:51:41.024890Z",
     "shell.execute_reply": "2021-10-30T07:51:41.025424Z",
     "shell.execute_reply.started": "2021-10-30T07:47:55.187965Z"
    },
    "papermill": {
     "duration": 0.023171,
     "end_time": "2021-10-30T07:51:41.025593",
     "exception": false,
     "start_time": "2021-10-30T07:51:41.002422",
     "status": "completed"
    },
    "tags": []
   },
   "outputs": [
    {
     "name": "stdout",
     "output_type": "stream",
     "text": [
      "Predicted Salary:  174937\n"
     ]
    }
   ],
   "source": [
    "# Question: How much salary can a person can get if he has 16 years of experience?\n",
    "pred_salary = regressor.predict([[16]])\n",
    "print(\"Predicted Salary: \", round(pred_salary[0]))"
   ]
  }
 ],
 "metadata": {
  "kernelspec": {
   "display_name": "Python 3",
   "language": "python",
   "name": "python3"
  },
  "language_info": {
   "codemirror_mode": {
    "name": "ipython",
    "version": 3
   },
   "file_extension": ".py",
   "mimetype": "text/x-python",
   "name": "python",
   "nbconvert_exporter": "python",
   "pygments_lexer": "ipython3",
   "version": "3.7.10"
  },
  "papermill": {
   "default_parameters": {},
   "duration": 11.841185,
   "end_time": "2021-10-30T07:51:42.646421",
   "environment_variables": {},
   "exception": null,
   "input_path": "__notebook__.ipynb",
   "output_path": "__notebook__.ipynb",
   "parameters": {},
   "start_time": "2021-10-30T07:51:30.805236",
   "version": "2.3.3"
  }
 },
 "nbformat": 4,
 "nbformat_minor": 5
}
